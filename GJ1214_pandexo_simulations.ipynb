{
 "cells": [
  {
   "cell_type": "markdown",
   "metadata": {},
   "source": [
    "# Start pandexo simulations of modelled spectra to get simulated JWST/MIRI observations\n"
   ]
  },
  {
   "cell_type": "markdown",
   "metadata": {},
   "source": [
    "## Install and setup pandexo on WSL (03/02/2022)\n",
    "\n",
    "1. It seems like the pandexo's web GUI is broken, as the example shown in [Ryan's pandexo tutorial](https://drive.google.com/drive/folders/12pbji-dg5XblqhSXzKmZ2nv_uvTi2N-b) is no longer working\n",
    "2. Got pandexo to install through the following steps:\n",
    "    1. Added 'export ...' statements to the ~/.profile file, with full paths. \n",
    "    2. Created a new conda environment\n",
    "    3. conda config --add channels http://ssb.stsci.edu/astroconda\n",
    "    4. conda install pyfftw\n",
    "    5. pip install pandexo.engine\n",
    "    6. Download 'run_test.py' from pandexo's Github repo and try to run it.\n",
    "    7. Now, running 'python run_test.py' gives out an astropy error, as the latest version's module names have been changed. So, downgrade astropy using 'pip install astropy==4.1rc1' (This is the version from summer 2020 when the code was working..)\n",
    "    8. It should work now\n"
   ]
  },
  {
   "cell_type": "code",
   "execution_count": 1,
   "metadata": {},
   "outputs": [],
   "source": [
    "import warnings\n",
    "warnings.filterwarnings('ignore')\n",
    "import pandexo.engine.justdoit as jdi # THIS IS THE HOLY GRAIL OF PANDEXO\n",
    "import pandexo.engine.justplotit as jpi\n",
    "import matplotlib.pyplot as plt\n",
    "import astropy\n",
    "from matplotlib.ticker import MultipleLocator, FormatStrFormatter, ScalarFormatter, NullFormatter\n",
    "from scipy.ndimage import gaussian_filter1d as gauss_conv\n",
    "import pickle as pk\n",
    "import numpy as np\n",
    "import pandas as pd\n",
    "import scipy.constants as sc\n",
    "from spectres import spectres \n",
    "\n",
    "import matplotlib\n",
    "\n",
    "plt.style.use('classic')\n",
    "plt.rc('font', family='serif')\n",
    "matplotlib.rcParams['svg.fonttype'] = 'none'"
   ]
  },
  {
   "cell_type": "markdown",
   "metadata": {},
   "source": [
    "### Follow the tutorial in pandexo's documentation to get secondary eclipse data for GJ1214b (since we have a stellar file for this planet)"
   ]
  },
  {
   "cell_type": "markdown",
   "metadata": {},
   "source": [
    "Setting up a run"
   ]
  },
  {
   "cell_type": "code",
   "execution_count": 2,
   "metadata": {},
   "outputs": [
    {
     "name": "stdout",
     "output_type": "stream",
     "text": [
      "dict_keys(['calculation', 'url', 'url_err', 'star', 'planet', 'observation'])\n"
     ]
    }
   ],
   "source": [
    "exo_dict = jdi.load_exo_dict()\n",
    "print(exo_dict.keys())\n",
    "#print(exo_dict['star']['w_unit'])"
   ]
  },
  {
   "cell_type": "markdown",
   "metadata": {},
   "source": [
    "Exoplanet observation inputs"
   ]
  },
  {
   "cell_type": "code",
   "execution_count": 4,
   "metadata": {},
   "outputs": [],
   "source": [
    "exo_dict['observation']['sat_level'] = 80    #saturation level in percent of full well\n",
    "exo_dict['observation']['sat_unit'] = '%'\n",
    "exo_dict['observation']['noccultations'] = 1 #number of transits\n",
    "exo_dict['observation']['R'] = None          #fixed binning. I usually suggest ZERO binning.. you can always bin later\n",
    "                                             #without having to redo the calcualtion\n",
    "exo_dict['observation']['baseline_unit'] = 'total'  #Defines how you specify out of transit observing time\n",
    "                                                    #'frac' : fraction of time in transit versus out = in/out\n",
    "                                                    #'total' : total observing time (seconds)\n",
    "exo_dict['observation']['baseline'] = 3.48*60.0*60.0 #in accordance with what was specified above (total observing time)\n",
    "\n",
    "exo_dict['observation']['noise_floor'] = 10   #this can be a fixed level or it can be a filepath\n",
    "                                             #to a wavelength dependent noise floor solution (units are ppm)"
   ]
  },
  {
   "cell_type": "markdown",
   "metadata": {},
   "source": [
    "Exoplanet host star inputs"
   ]
  },
  {
   "cell_type": "code",
   "execution_count": 5,
   "metadata": {},
   "outputs": [],
   "source": [
    "fits_image_filename = astropy.io.fits.open('./Resources/GJ1214_stellar_spectrum.fits')\n",
    "data = fits_image_filename[1].data\n",
    "wav = np.array([data[i][0] for i in range(5000)])\n",
    "Flux_lambda = np.array([data[i][1] for i in range(5000)])\n",
    "nu = sc.c / (wav*1.0e-10)     # Convert wavelength (in Angstrom) into frequency (Hz)\n",
    "Flux_nu = Flux_lambda * ((sc.c*1e10) / nu**2)   # Speed of light in Angstrom HZ converts from erg/cm^2/s/Angstrom into erg/cm^2/s/Hz\n",
    "\n",
    "def write_stellar(nu, F_nu):\n",
    "    \n",
    "    # Write spectrum\n",
    "    f = open('./Resources/'  + 'GJ1214_stellar.dat','w')\n",
    "    \n",
    "    for i in range(len(nu)):\n",
    "        f.write('%.8e %.8e \\n' %(nu[i], F_nu[i]))\n",
    "\n",
    "write_stellar(wav*(10**-4), Flux_nu)"
   ]
  },
  {
   "cell_type": "code",
   "execution_count": 6,
   "metadata": {},
   "outputs": [],
   "source": [
    "exo_dict['star']['type'] = 'user'        # Phoenix or user (if you have your own)\n",
    "exo_dict['star']['starpath'] = './Resources/GJ1214_stellar.dat'\n",
    "exo_dict['star']['w_unit'] = 'um'                      \n",
    "exo_dict['star']['f_unit'] = 'erg/cm2/s/Hz'      \n",
    "exo_dict['star']['mag'] = 9.750             # Magnitude of the system\n",
    "exo_dict['star']['ref_wave'] = 1.25         # For J mag = 1.25, H = 1.6, K =2.22.. etc (all in micron)"
   ]
  },
  {
   "cell_type": "markdown",
   "metadata": {},
   "source": [
    "Exoplanet planet inputs for secondary eclipse"
   ]
  },
  {
   "cell_type": "code",
   "execution_count": 9,
   "metadata": {},
   "outputs": [],
   "source": [
    "exo_dict['planet']['f_unit'] = 'fp/f*'\n",
    "exo_dict['planet']['temp'] = 700"
   ]
  },
  {
   "cell_type": "markdown",
   "metadata": {},
   "source": [
    "Exoplanet planet inputs for transit model"
   ]
  },
  {
   "cell_type": "code",
   "execution_count": 8,
   "metadata": {},
   "outputs": [],
   "source": [
    "def read_spectrum_Caroline(fname, R_p, R_s ):\n",
    "    data=pd.read_csv(fname , sep = '\\s+', skiprows = 1, header= None)\n",
    "    wavelength = np.array(data[0])\n",
    "    H_eff = np.array(data[1])\n",
    "    spectrum = (H_eff*1.0e3)**2/ R_s**2\n",
    " \n",
    "    return wavelength, spectrum\n",
    "\n",
    "def write_output(spectrum, wl):\n",
    "    \n",
    "    '''Writes out a given model PT profile and spectrum'''\n",
    "    \n",
    "    # Write spectrum\n",
    "    f = open('./Resources/' 'GJ1214_transmission.txt','w')\n",
    "    \n",
    "    for i in range(len(wl)):\n",
    "        f.write('%.8e %.8e \\n' %(wl[i], spectrum[i]))   # wl (um) | Rp/Rs^2\n",
    "        \n",
    "    f.close()\n",
    "\n",
    "spectrum_file = './Resources/gj1214-kzz8-1x-r0.03-f10_soot.out'\n",
    "\n",
    "R_J = 7.1492e7     # Radius of Jupiter (m)\n",
    "R_p = 0.241*R_J   # Radius of planet\n",
    "R_Sun = 6.957e8    # Radius of Sun (m)\n",
    "R_s = 0.22*R_Sun     # Radius of star (m)\n",
    "\n",
    "\n",
    "wl, spectrum = read_spectrum_Caroline(spectrum_file, R_p, R_s)\n",
    "\n",
    "write_output(spectrum, wl)\n",
    "    \n",
    "spectrum_file_processed = './Resources/GJ1214_transmission.txt'\n",
    "\n",
    "\n",
    "exo_dict['planet']['type'] ='user'\n",
    "exo_dict['planet']['exopath'] = spectrum_file_processed\n",
    "exo_dict['planet']['w_unit'] = 'um'                        # Other options include \"um\",\"nm\" ,\"Angs\", \"secs\" (for phase curves)\n",
    "exo_dict['planet']['f_unit'] = 'rp^2/r*^2'                 # Other options are 'fp/f*'\n",
    "exo_dict['planet']['transit_duration'] = 0.8688*60*60.0          # Transit duration\n",
    "exo_dict['planet']['td_unit'] = 's'                        # Any unit of time in accordance with astropy.units can be added"
   ]
  },
  {
   "cell_type": "markdown",
   "metadata": {},
   "source": [
    "Select instrument"
   ]
  },
  {
   "cell_type": "code",
   "execution_count": 9,
   "metadata": {},
   "outputs": [],
   "source": [
    "#inst_dict = ['MIRI LRS']\n",
    "inst_dict = jdi.load_mode_dict('NIRSpec G395H')"
   ]
  },
  {
   "cell_type": "markdown",
   "metadata": {},
   "source": [
    "Run pandexo"
   ]
  },
  {
   "cell_type": "code",
   "execution_count": 10,
   "metadata": {},
   "outputs": [
    {
     "name": "stdout",
     "output_type": "stream",
     "text": [
      "Running Single Case w/ User Instrument Dict\n",
      "Optimization Reqested: Computing Duty Cycle\n",
      "Finished Duty Cycle Calc\n",
      "Starting Out of Transit Simulation\n",
      "End out of Transit\n",
      "Starting In Transit Simulation\n",
      "End In Transit\n"
     ]
    }
   ],
   "source": [
    "result = jdi.run_pandexo(exo_dict, inst_dict, output_path = './pandexo_outputs/')"
   ]
  },
  {
   "cell_type": "markdown",
   "metadata": {},
   "source": [
    "Plot results"
   ]
  },
  {
   "cell_type": "code",
   "execution_count": 13,
   "metadata": {},
   "outputs": [
    {
     "name": "stderr",
     "output_type": "stream",
     "text": [
      "Start : This command cannot be run due to the error: The system cannot find the file specified.\n",
      "At line:1 char:1\n",
      "+ Start \"file:///mnt/g/My Drive/Work/Research/Projects/Rocky_exo_JWST/d ...\n",
      "+ ~~~~~~~~~~~~~~~~~~~~~~~~~~~~~~~~~~~~~~~~~~~~~~~~~~~~~~~~~~~~~~~~~~~~~\n",
      "    + CategoryInfo          : InvalidOperation: (:) [Start-Process], InvalidOperationException\n",
      "    + FullyQualifiedErrorId : InvalidOperationException,Microsoft.PowerShell.Commands.StartProcessCommand\n",
      " \n"
     ]
    }
   ],
   "source": [
    "#load in output from run\n",
    "out = pk.load(open('./pandexo_outputs/singlerun.p','rb'))\n",
    "#for a single run\n",
    "x,y, e = jpi.jwst_1d_spec(out, R=100, num_tran=1, model=False)"
   ]
  },
  {
   "cell_type": "code",
   "execution_count": 23,
   "metadata": {},
   "outputs": [
    {
     "data": {
      "text/plain": [
       "<ErrorbarContainer object of 3 artists>"
      ]
     },
     "execution_count": 23,
     "metadata": {},
     "output_type": "execute_result"
    },
    {
     "data": {
      "image/png": "[encoded data removed]",
      "text/plain": [
       "<Figure size 640x480 with 1 Axes>"
      ]
     },
     "metadata": {},
     "output_type": "display_data"
    }
   ],
   "source": [
    "plt.figure()\n",
    "plt.errorbar(x[0][60:],y[0][60:],yerr=e[0][60:],ls='')"
   ]
  },
  {
   "cell_type": "markdown",
   "metadata": {},
   "source": [
    "### The transmission spectrum simulation is working, try emission now"
   ]
  },
  {
   "cell_type": "markdown",
   "metadata": {},
   "source": [
    "Setting up a run"
   ]
  },
  {
   "cell_type": "code",
   "execution_count": 2,
   "metadata": {},
   "outputs": [
    {
     "name": "stdout",
     "output_type": "stream",
     "text": [
      "dict_keys(['calculation', 'url', 'url_err', 'star', 'planet', 'observation'])\n"
     ]
    }
   ],
   "source": [
    "exo_dict = jdi.load_exo_dict()\n",
    "print(exo_dict.keys())\n",
    "#print(exo_dict['star']['w_unit'])"
   ]
  },
  {
   "cell_type": "markdown",
   "metadata": {},
   "source": [
    "Exoplanet observation inputs"
   ]
  },
  {
   "cell_type": "code",
   "execution_count": 3,
   "metadata": {},
   "outputs": [],
   "source": [
    "exo_dict['observation']['sat_level'] = 80    #saturation level in percent of full well\n",
    "exo_dict['observation']['sat_unit'] = '%'\n",
    "exo_dict['observation']['noccultations'] = 1 #number of transits\n",
    "exo_dict['observation']['R'] = None          #fixed binning. I usually suggest ZERO binning.. you can always bin later\n",
    "                                             #without having to redo the calcualtion\n",
    "exo_dict['observation']['baseline_unit'] = 'total'  #Defines how you specify out of transit observing time\n",
    "                                                    #'frac' : fraction of time in transit versus out = in/out\n",
    "                                                    #'total' : total observing time (seconds)\n",
    "exo_dict['observation']['baseline'] = 3.48*60.0*60.0 #in accordance with what was specified above (total observing time)\n",
    "\n",
    "exo_dict['observation']['noise_floor'] = 10   #this can be a fixed level or it can be a filepath\n",
    "                                             #to a wavelength dependent noise floor solution (units are ppm)"
   ]
  },
  {
   "cell_type": "markdown",
   "metadata": {},
   "source": [
    "Exoplanet host star inputs"
   ]
  },
  {
   "cell_type": "code",
   "execution_count": 4,
   "metadata": {},
   "outputs": [],
   "source": [
    "fits_image_filename = astropy.io.fits.open('./Resources/GJ1214_stellar_spectrum.fits')\n",
    "data = fits_image_filename[1].data\n",
    "wav = np.array([data[i][0] for i in range(5000)])\n",
    "Flux_lambda = np.array([data[i][1] for i in range(5000)])\n",
    "nu = sc.c / (wav*1.0e-10)     # Convert wavelength (in Angstrom) into frequency (Hz)\n",
    "Flux_nu = Flux_lambda * ((sc.c*1e10) / nu**2)   # Speed of light in Angstrom HZ converts from erg/cm^2/s/Angstrom into erg/cm^2/s/Hz\n",
    "\n",
    "def write_stellar(nu, F_nu):\n",
    "    \n",
    "    # Write spectrum\n",
    "    f = open('./Resources/'  + 'GJ1214_stellar.dat','w')\n",
    "    \n",
    "    for i in range(len(nu)):\n",
    "        f.write('%.8e %.8e \\n' %(nu[i], F_nu[i]))\n",
    "\n",
    "write_stellar(wav*(10**-4), Flux_nu)"
   ]
  },
  {
   "cell_type": "code",
   "execution_count": 5,
   "metadata": {},
   "outputs": [],
   "source": [
    "exo_dict['star']['type'] = 'user'        # Phoenix or user (if you have your own)\n",
    "exo_dict['star']['starpath'] = './Resources/GJ1214_stellar.dat'\n",
    "exo_dict['star']['w_unit'] = 'um'                      \n",
    "exo_dict['star']['f_unit'] = 'erg/cm2/s/Hz'      \n",
    "exo_dict['star']['mag'] = 9.750             # Magnitude of the system\n",
    "exo_dict['star']['ref_wave'] = 1.25         # For J mag = 1.25, H = 1.6, K =2.22.. etc (all in micron)"
   ]
  },
  {
   "cell_type": "markdown",
   "metadata": {},
   "source": [
    "Exoplanet planet input for secondary eclipse"
   ]
  },
  {
   "cell_type": "code",
   "execution_count": 17,
   "metadata": {},
   "outputs": [],
   "source": [
    "exo_dict['planet']['type'] = 'constant'   \n",
    "exo_dict['planet']['transit_duration'] = 0.8688*60.0*60.0   #transit duration\n",
    "exo_dict['planet']['td_unit'] = 's'\n",
    "exo_dict['planet']['radius'] = 0.241\n",
    "exo_dict['planet']['r_unit'] = 'R_jup'            #Any unit of distance in accordance with astropy.units can be added here\n",
    "exo_dict['star']['radius'] = 0.22\n",
    "exo_dict['star']['r_unit'] = 'R_sun'              #Same deal with astropy.units here\n",
    "exo_dict['planet']['f_unit'] = 'fp/f*'\n",
    "exo_dict['planet']['temp'] = 700"
   ]
  },
  {
   "cell_type": "markdown",
   "metadata": {},
   "source": [
    "Select instrument"
   ]
  },
  {
   "cell_type": "code",
   "execution_count": 18,
   "metadata": {},
   "outputs": [],
   "source": [
    "inst_dict = jdi.load_mode_dict('MIRI LRS')"
   ]
  },
  {
   "cell_type": "code",
   "execution_count": 19,
   "metadata": {},
   "outputs": [
    {
     "name": "stdout",
     "output_type": "stream",
     "text": [
      "Running Single Case w/ User Instrument Dict\n",
      "Optimization Reqested: Computing Duty Cycle\n",
      "Finished Duty Cycle Calc\n",
      "Starting Out of Transit Simulation\n",
      "End out of Transit\n",
      "Starting In Transit Simulation\n",
      "End In Transit\n"
     ]
    }
   ],
   "source": [
    "result = jdi.run_pandexo(exo_dict, inst_dict, output_path = './pandexo_outputs/', output_file='GJ1214b_emission.p')"
   ]
  },
  {
   "cell_type": "code",
   "execution_count": 22,
   "metadata": {},
   "outputs": [],
   "source": [
    "#load in output from run\n",
    "out = pk.load(open('./pandexo_outputs/GJ1214b_emission.p','rb'))\n",
    "#for a single run\n",
    "x,y,e = jpi.jwst_1d_spec(out, R=100, num_tran=1, model=False, plot=False)"
   ]
  },
  {
   "cell_type": "code",
   "execution_count": 26,
   "metadata": {},
   "outputs": [
    {
     "data": {
      "text/plain": [
       "<ErrorbarContainer object of 3 artists>"
      ]
     },
     "execution_count": 26,
     "metadata": {},
     "output_type": "execute_result"
    },
    {
     "data": {
      "image/png": "[encoded data removed]",
      "text/plain": [
       "<Figure size 640x480 with 1 Axes>"
      ]
     },
     "metadata": {},
     "output_type": "display_data"
    }
   ],
   "source": [
    "plt.figure()\n",
    "plt.errorbar(x[0],y[0],yerr=e[0], ls='')"
   ]
  },
  {
   "cell_type": "markdown",
   "metadata": {},
   "source": [
    "### Great, this works too! Now on to simulating one for LHS-3844b..."
   ]
  },
  {
   "cell_type": "markdown",
   "metadata": {},
   "source": []
  }
 ],
 "metadata": {
  "interpreter": {
   "hash": "05dadc51f662fc2f74bc0afcec96140f8089e550d39a37cdb6d12f47001c2089"
  },
  "kernelspec": {
   "display_name": "Python 3.7.11 ('pandexo')",
   "language": "python",
   "name": "python3"
  },
  "language_info": {
   "codemirror_mode": {
    "name": "ipython",
    "version": 3
   },
   "file_extension": ".py",
   "mimetype": "text/x-python",
   "name": "python",
   "nbconvert_exporter": "python",
   "pygments_lexer": "ipython3",
   "version": "3.7.11"
  },
  "orig_nbformat": 4
 },
 "nbformat": 4,
 "nbformat_minor": 2
}
